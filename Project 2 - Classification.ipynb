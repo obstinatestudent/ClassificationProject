{
 "cells": [
  {
   "cell_type": "markdown",
   "metadata": {},
   "source": [
    "# Introduction to ML with Python - Classification Project\n",
    "### Nate Powers and Steve Iannucci"
   ]
  },
  {
   "cell_type": "code",
   "execution_count": 2,
   "metadata": {},
   "outputs": [],
   "source": [
    "# Imports\n",
    "\n",
    "import numpy as np\n",
    "import pandas as pd\n",
    "import matplotlib"
   ]
  },
  {
   "cell_type": "code",
   "execution_count": 3,
   "metadata": {},
   "outputs": [
    {
     "data": {
      "text/html": [
       "<div>\n",
       "<style scoped>\n",
       "    .dataframe tbody tr th:only-of-type {\n",
       "        vertical-align: middle;\n",
       "    }\n",
       "\n",
       "    .dataframe tbody tr th {\n",
       "        vertical-align: top;\n",
       "    }\n",
       "\n",
       "    .dataframe thead th {\n",
       "        text-align: right;\n",
       "    }\n",
       "</style>\n",
       "<table border=\"1\" class=\"dataframe\">\n",
       "  <thead>\n",
       "    <tr style=\"text-align: right;\">\n",
       "      <th></th>\n",
       "      <th>Timestamp</th>\n",
       "      <th>Age</th>\n",
       "      <th>Gender</th>\n",
       "      <th>Country</th>\n",
       "      <th>state</th>\n",
       "      <th>self_employed</th>\n",
       "      <th>family_history</th>\n",
       "      <th>treatment</th>\n",
       "      <th>work_interfere</th>\n",
       "      <th>no_employees</th>\n",
       "      <th>...</th>\n",
       "      <th>leave</th>\n",
       "      <th>mental_health_consequence</th>\n",
       "      <th>phys_health_consequence</th>\n",
       "      <th>coworkers</th>\n",
       "      <th>supervisor</th>\n",
       "      <th>mental_health_interview</th>\n",
       "      <th>phys_health_interview</th>\n",
       "      <th>mental_vs_physical</th>\n",
       "      <th>obs_consequence</th>\n",
       "      <th>comments</th>\n",
       "    </tr>\n",
       "  </thead>\n",
       "  <tbody>\n",
       "    <tr>\n",
       "      <th>0</th>\n",
       "      <td>2014-08-27 11:29:31</td>\n",
       "      <td>37</td>\n",
       "      <td>Female</td>\n",
       "      <td>United States</td>\n",
       "      <td>IL</td>\n",
       "      <td>NaN</td>\n",
       "      <td>No</td>\n",
       "      <td>Yes</td>\n",
       "      <td>Often</td>\n",
       "      <td>6-25</td>\n",
       "      <td>...</td>\n",
       "      <td>Somewhat easy</td>\n",
       "      <td>No</td>\n",
       "      <td>No</td>\n",
       "      <td>Some of them</td>\n",
       "      <td>Yes</td>\n",
       "      <td>No</td>\n",
       "      <td>Maybe</td>\n",
       "      <td>Yes</td>\n",
       "      <td>No</td>\n",
       "      <td>NaN</td>\n",
       "    </tr>\n",
       "    <tr>\n",
       "      <th>1</th>\n",
       "      <td>2014-08-27 11:29:37</td>\n",
       "      <td>44</td>\n",
       "      <td>M</td>\n",
       "      <td>United States</td>\n",
       "      <td>IN</td>\n",
       "      <td>NaN</td>\n",
       "      <td>No</td>\n",
       "      <td>No</td>\n",
       "      <td>Rarely</td>\n",
       "      <td>More than 1000</td>\n",
       "      <td>...</td>\n",
       "      <td>Don't know</td>\n",
       "      <td>Maybe</td>\n",
       "      <td>No</td>\n",
       "      <td>No</td>\n",
       "      <td>No</td>\n",
       "      <td>No</td>\n",
       "      <td>No</td>\n",
       "      <td>Don't know</td>\n",
       "      <td>No</td>\n",
       "      <td>NaN</td>\n",
       "    </tr>\n",
       "    <tr>\n",
       "      <th>2</th>\n",
       "      <td>2014-08-27 11:29:44</td>\n",
       "      <td>32</td>\n",
       "      <td>Male</td>\n",
       "      <td>Canada</td>\n",
       "      <td>NaN</td>\n",
       "      <td>NaN</td>\n",
       "      <td>No</td>\n",
       "      <td>No</td>\n",
       "      <td>Rarely</td>\n",
       "      <td>6-25</td>\n",
       "      <td>...</td>\n",
       "      <td>Somewhat difficult</td>\n",
       "      <td>No</td>\n",
       "      <td>No</td>\n",
       "      <td>Yes</td>\n",
       "      <td>Yes</td>\n",
       "      <td>Yes</td>\n",
       "      <td>Yes</td>\n",
       "      <td>No</td>\n",
       "      <td>No</td>\n",
       "      <td>NaN</td>\n",
       "    </tr>\n",
       "    <tr>\n",
       "      <th>3</th>\n",
       "      <td>2014-08-27 11:29:46</td>\n",
       "      <td>31</td>\n",
       "      <td>Male</td>\n",
       "      <td>United Kingdom</td>\n",
       "      <td>NaN</td>\n",
       "      <td>NaN</td>\n",
       "      <td>Yes</td>\n",
       "      <td>Yes</td>\n",
       "      <td>Often</td>\n",
       "      <td>26-100</td>\n",
       "      <td>...</td>\n",
       "      <td>Somewhat difficult</td>\n",
       "      <td>Yes</td>\n",
       "      <td>Yes</td>\n",
       "      <td>Some of them</td>\n",
       "      <td>No</td>\n",
       "      <td>Maybe</td>\n",
       "      <td>Maybe</td>\n",
       "      <td>No</td>\n",
       "      <td>Yes</td>\n",
       "      <td>NaN</td>\n",
       "    </tr>\n",
       "    <tr>\n",
       "      <th>4</th>\n",
       "      <td>2014-08-27 11:30:22</td>\n",
       "      <td>31</td>\n",
       "      <td>Male</td>\n",
       "      <td>United States</td>\n",
       "      <td>TX</td>\n",
       "      <td>NaN</td>\n",
       "      <td>No</td>\n",
       "      <td>No</td>\n",
       "      <td>Never</td>\n",
       "      <td>100-500</td>\n",
       "      <td>...</td>\n",
       "      <td>Don't know</td>\n",
       "      <td>No</td>\n",
       "      <td>No</td>\n",
       "      <td>Some of them</td>\n",
       "      <td>Yes</td>\n",
       "      <td>Yes</td>\n",
       "      <td>Yes</td>\n",
       "      <td>Don't know</td>\n",
       "      <td>No</td>\n",
       "      <td>NaN</td>\n",
       "    </tr>\n",
       "    <tr>\n",
       "      <th>5</th>\n",
       "      <td>2014-08-27 11:31:22</td>\n",
       "      <td>33</td>\n",
       "      <td>Male</td>\n",
       "      <td>United States</td>\n",
       "      <td>TN</td>\n",
       "      <td>NaN</td>\n",
       "      <td>Yes</td>\n",
       "      <td>No</td>\n",
       "      <td>Sometimes</td>\n",
       "      <td>6-25</td>\n",
       "      <td>...</td>\n",
       "      <td>Don't know</td>\n",
       "      <td>No</td>\n",
       "      <td>No</td>\n",
       "      <td>Yes</td>\n",
       "      <td>Yes</td>\n",
       "      <td>No</td>\n",
       "      <td>Maybe</td>\n",
       "      <td>Don't know</td>\n",
       "      <td>No</td>\n",
       "      <td>NaN</td>\n",
       "    </tr>\n",
       "    <tr>\n",
       "      <th>6</th>\n",
       "      <td>2014-08-27 11:31:50</td>\n",
       "      <td>35</td>\n",
       "      <td>Female</td>\n",
       "      <td>United States</td>\n",
       "      <td>MI</td>\n",
       "      <td>NaN</td>\n",
       "      <td>Yes</td>\n",
       "      <td>Yes</td>\n",
       "      <td>Sometimes</td>\n",
       "      <td>1-5</td>\n",
       "      <td>...</td>\n",
       "      <td>Somewhat difficult</td>\n",
       "      <td>Maybe</td>\n",
       "      <td>Maybe</td>\n",
       "      <td>Some of them</td>\n",
       "      <td>No</td>\n",
       "      <td>No</td>\n",
       "      <td>No</td>\n",
       "      <td>Don't know</td>\n",
       "      <td>No</td>\n",
       "      <td>NaN</td>\n",
       "    </tr>\n",
       "    <tr>\n",
       "      <th>7</th>\n",
       "      <td>2014-08-27 11:32:05</td>\n",
       "      <td>39</td>\n",
       "      <td>M</td>\n",
       "      <td>Canada</td>\n",
       "      <td>NaN</td>\n",
       "      <td>NaN</td>\n",
       "      <td>No</td>\n",
       "      <td>No</td>\n",
       "      <td>Never</td>\n",
       "      <td>1-5</td>\n",
       "      <td>...</td>\n",
       "      <td>Don't know</td>\n",
       "      <td>No</td>\n",
       "      <td>No</td>\n",
       "      <td>No</td>\n",
       "      <td>No</td>\n",
       "      <td>No</td>\n",
       "      <td>No</td>\n",
       "      <td>No</td>\n",
       "      <td>No</td>\n",
       "      <td>NaN</td>\n",
       "    </tr>\n",
       "    <tr>\n",
       "      <th>8</th>\n",
       "      <td>2014-08-27 11:32:39</td>\n",
       "      <td>42</td>\n",
       "      <td>Female</td>\n",
       "      <td>United States</td>\n",
       "      <td>IL</td>\n",
       "      <td>NaN</td>\n",
       "      <td>Yes</td>\n",
       "      <td>Yes</td>\n",
       "      <td>Sometimes</td>\n",
       "      <td>100-500</td>\n",
       "      <td>...</td>\n",
       "      <td>Very difficult</td>\n",
       "      <td>Maybe</td>\n",
       "      <td>No</td>\n",
       "      <td>Yes</td>\n",
       "      <td>Yes</td>\n",
       "      <td>No</td>\n",
       "      <td>Maybe</td>\n",
       "      <td>No</td>\n",
       "      <td>No</td>\n",
       "      <td>NaN</td>\n",
       "    </tr>\n",
       "    <tr>\n",
       "      <th>9</th>\n",
       "      <td>2014-08-27 11:32:43</td>\n",
       "      <td>23</td>\n",
       "      <td>Male</td>\n",
       "      <td>Canada</td>\n",
       "      <td>NaN</td>\n",
       "      <td>NaN</td>\n",
       "      <td>No</td>\n",
       "      <td>No</td>\n",
       "      <td>Never</td>\n",
       "      <td>26-100</td>\n",
       "      <td>...</td>\n",
       "      <td>Don't know</td>\n",
       "      <td>No</td>\n",
       "      <td>No</td>\n",
       "      <td>Yes</td>\n",
       "      <td>Yes</td>\n",
       "      <td>Maybe</td>\n",
       "      <td>Maybe</td>\n",
       "      <td>Yes</td>\n",
       "      <td>No</td>\n",
       "      <td>NaN</td>\n",
       "    </tr>\n",
       "  </tbody>\n",
       "</table>\n",
       "<p>10 rows × 27 columns</p>\n",
       "</div>"
      ],
      "text/plain": [
       "             Timestamp  Age  Gender         Country state self_employed  \\\n",
       "0  2014-08-27 11:29:31   37  Female   United States    IL           NaN   \n",
       "1  2014-08-27 11:29:37   44       M   United States    IN           NaN   \n",
       "2  2014-08-27 11:29:44   32    Male          Canada   NaN           NaN   \n",
       "3  2014-08-27 11:29:46   31    Male  United Kingdom   NaN           NaN   \n",
       "4  2014-08-27 11:30:22   31    Male   United States    TX           NaN   \n",
       "5  2014-08-27 11:31:22   33    Male   United States    TN           NaN   \n",
       "6  2014-08-27 11:31:50   35  Female   United States    MI           NaN   \n",
       "7  2014-08-27 11:32:05   39       M          Canada   NaN           NaN   \n",
       "8  2014-08-27 11:32:39   42  Female   United States    IL           NaN   \n",
       "9  2014-08-27 11:32:43   23    Male          Canada   NaN           NaN   \n",
       "\n",
       "  family_history treatment work_interfere    no_employees  ...  \\\n",
       "0             No       Yes          Often            6-25  ...   \n",
       "1             No        No         Rarely  More than 1000  ...   \n",
       "2             No        No         Rarely            6-25  ...   \n",
       "3            Yes       Yes          Often          26-100  ...   \n",
       "4             No        No          Never         100-500  ...   \n",
       "5            Yes        No      Sometimes            6-25  ...   \n",
       "6            Yes       Yes      Sometimes             1-5  ...   \n",
       "7             No        No          Never             1-5  ...   \n",
       "8            Yes       Yes      Sometimes         100-500  ...   \n",
       "9             No        No          Never          26-100  ...   \n",
       "\n",
       "                leave mental_health_consequence phys_health_consequence  \\\n",
       "0       Somewhat easy                        No                      No   \n",
       "1          Don't know                     Maybe                      No   \n",
       "2  Somewhat difficult                        No                      No   \n",
       "3  Somewhat difficult                       Yes                     Yes   \n",
       "4          Don't know                        No                      No   \n",
       "5          Don't know                        No                      No   \n",
       "6  Somewhat difficult                     Maybe                   Maybe   \n",
       "7          Don't know                        No                      No   \n",
       "8      Very difficult                     Maybe                      No   \n",
       "9          Don't know                        No                      No   \n",
       "\n",
       "      coworkers supervisor mental_health_interview phys_health_interview  \\\n",
       "0  Some of them        Yes                      No                 Maybe   \n",
       "1            No         No                      No                    No   \n",
       "2           Yes        Yes                     Yes                   Yes   \n",
       "3  Some of them         No                   Maybe                 Maybe   \n",
       "4  Some of them        Yes                     Yes                   Yes   \n",
       "5           Yes        Yes                      No                 Maybe   \n",
       "6  Some of them         No                      No                    No   \n",
       "7            No         No                      No                    No   \n",
       "8           Yes        Yes                      No                 Maybe   \n",
       "9           Yes        Yes                   Maybe                 Maybe   \n",
       "\n",
       "  mental_vs_physical obs_consequence comments  \n",
       "0                Yes              No      NaN  \n",
       "1         Don't know              No      NaN  \n",
       "2                 No              No      NaN  \n",
       "3                 No             Yes      NaN  \n",
       "4         Don't know              No      NaN  \n",
       "5         Don't know              No      NaN  \n",
       "6         Don't know              No      NaN  \n",
       "7                 No              No      NaN  \n",
       "8                 No              No      NaN  \n",
       "9                Yes              No      NaN  \n",
       "\n",
       "[10 rows x 27 columns]"
      ]
     },
     "execution_count": 3,
     "metadata": {},
     "output_type": "execute_result"
    }
   ],
   "source": [
    "health = pd.read_csv(\"C:/Users/natea/Desktop/L&F/School/Spring 2020/Python ML/Projects/Proj_2/Classification/survey.csv\")\n",
    "health.head(10)"
   ]
  },
  {
   "cell_type": "code",
   "execution_count": 4,
   "metadata": {},
   "outputs": [
    {
     "data": {
      "text/plain": [
       "array([[<matplotlib.axes._subplots.AxesSubplot object at 0x000002C33ABB6D88>]],\n",
       "      dtype=object)"
      ]
     },
     "execution_count": 4,
     "metadata": {},
     "output_type": "execute_result"
    },
    {
     "data": {
      "image/png": "[encoded data removed]",
      "text/plain": [
       "<Figure size 432x288 with 1 Axes>"
      ]
     },
     "metadata": {
      "needs_background": "light"
     },
     "output_type": "display_data"
    }
   ],
   "source": [
    "# Filter out if users dont work in tech\n",
    "health = health[health[\"tech_company\"] != \"No\"]\n",
    "health.hist(column = 'Age')"
   ]
  },
  {
   "cell_type": "code",
   "execution_count": 5,
   "metadata": {},
   "outputs": [
    {
     "data": {
      "text/plain": [
       "array([[<matplotlib.axes._subplots.AxesSubplot object at 0x000002C33AE87888>]],\n",
       "      dtype=object)"
      ]
     },
     "execution_count": 5,
     "metadata": {},
     "output_type": "execute_result"
    },
    {
     "data": {
      "image/png": "[encoded data removed]",
      "text/plain": [
       "<Figure size 432x288 with 1 Axes>"
      ]
     },
     "metadata": {
      "needs_background": "light"
     },
     "output_type": "display_data"
    }
   ],
   "source": [
    "# remove all entries with age over 100 and less than 16\n",
    "health = health[health['Age'] > 16]\n",
    "health = health[health['Age'] < 100]\n",
    "health.hist(column = 'Age')"
   ]
  },
  {
   "cell_type": "markdown",
   "metadata": {},
   "source": [
    "**Timestamp** - Time the survey was submitted\n",
    "\n",
    "**Age** - Respondent age Gender-Respondent gender \n",
    "\n",
    "**Country** - Respondent country state-If you live in the United States, which state or territory do you live in?\n",
    "\n",
    "**self_employed** - Are you self-employed?\n",
    "\n",
    "**family_history** - Do you have a family history of mental illness?\n",
    "\n",
    "**treatment** - Have you sought treatment for a mental health condition? \n",
    "\n",
    "**work_interfere** - If you have a mental health condition, do you feel that it interferes with your work? \n",
    "\n",
    "**no_employees** - How many employees does your company or organization have? \n",
    "\n",
    "**remote_work** - Do you work remotely (outside of an office) at least 50% of the time? \n",
    "\n",
    "**tech_company** - Is your employer primarily a tech company/organization? \n",
    "\n",
    "**benefits** - Does your employer provide mental health benefits? \n",
    "\n",
    "**care_options** - Do you know the options for mental health care your employer provides? \n",
    "\n",
    "**wellness_program** - Has your employer ever discussed mental health as part of an employee wellness program? \n",
    "\n",
    "**seek_help** - Does your employer provide resources to learn more about mental health issues and how to seek help? \n",
    "\n",
    "**anonymity** - Is your anonymity protected if you choose to take advantage of mental health or substance abuse treatment resources? \n",
    "\n",
    "**leave** - How easy is it for you to take medical leave for a mental health condition? \n",
    "\n",
    "**mental_health_consequence** - Do you think that discussing a mental health issue with your employer would have negative consequences? \n",
    "\n",
    "**phys_health_consequence** - Do you think that discussing a physical health issue with your employer would have negative consequences? \n",
    "\n",
    "**coworkers** - Would you be willing to discuss a mental health issue with your coworkers? \n",
    "\n",
    "**supervisor** - Would you be willing to discuss a mental health issue with your direct supervisor(s)? \n",
    "\n",
    "**mental_health_interview** - Would you bring up a mental health issue with a potential employer in an interview? \n",
    "\n",
    "**phys_health_interview** - Would you bring up a physical health issue with a potential employer in an interview? \n",
    "\n",
    "**mental_vs_physical** - Do you feel that your employer takes mental health as seriously as physical health? \n",
    "\n",
    "**obs_consequence** - Have you heard of or observed negative consequences for coworkers with mental health conditions in your workplace? \n",
    "\n",
    "**comments** - Any additional notes or comments"
   ]
  },
  {
   "cell_type": "code",
   "execution_count": 6,
   "metadata": {},
   "outputs": [
    {
     "data": {
      "text/plain": [
       "<matplotlib.axes._subplots.AxesSubplot at 0x2c33b7b7648>"
      ]
     },
     "execution_count": 6,
     "metadata": {},
     "output_type": "execute_result"
    },
    {
     "data": {
      "image/png": "[encoded data removed]",
      "text/plain": [
       "<Figure size 432x288 with 1 Axes>"
      ]
     },
     "metadata": {
      "needs_background": "light"
     },
     "output_type": "display_data"
    }
   ],
   "source": [
    "health['work_interfere'].value_counts().plot(kind='bar')"
   ]
  },
  {
   "cell_type": "code",
   "execution_count": 7,
   "metadata": {},
   "outputs": [
    {
     "data": {
      "text/plain": [
       "<matplotlib.axes._subplots.AxesSubplot at 0x2c33b844e48>"
      ]
     },
     "execution_count": 7,
     "metadata": {},
     "output_type": "execute_result"
    },
    {
     "data": {
      "image/png": "[encoded data removed]",
      "text/plain": [
       "<Figure size 432x288 with 1 Axes>"
      ]
     },
     "metadata": {
      "needs_background": "light"
     },
     "output_type": "display_data"
    }
   ],
   "source": [
    "health['no_employees'].value_counts().plot(kind='bar')"
   ]
  },
  {
   "cell_type": "code",
   "execution_count": 8,
   "metadata": {},
   "outputs": [
    {
     "data": {
      "text/plain": [
       "<matplotlib.axes._subplots.AxesSubplot at 0x2c33b8cb788>"
      ]
     },
     "execution_count": 8,
     "metadata": {},
     "output_type": "execute_result"
    },
    {
     "data": {
      "image/png": "[encoded data removed]",
      "text/plain": [
       "<Figure size 432x288 with 1 Axes>"
      ]
     },
     "metadata": {
      "needs_background": "light"
     },
     "output_type": "display_data"
    }
   ],
   "source": [
    "health['seek_help'].value_counts().plot(kind='bar')"
   ]
  },
  {
   "cell_type": "code",
   "execution_count": 9,
   "metadata": {},
   "outputs": [
    {
     "data": {
      "text/plain": [
       "<matplotlib.axes._subplots.AxesSubplot at 0x2c33b92b208>"
      ]
     },
     "execution_count": 9,
     "metadata": {},
     "output_type": "execute_result"
    },
    {
     "data": {
      "image/png": "[encoded data removed]",
      "text/plain": [
       "<Figure size 432x288 with 1 Axes>"
      ]
     },
     "metadata": {
      "needs_background": "light"
     },
     "output_type": "display_data"
    }
   ],
   "source": [
    "health['treatment'].value_counts().plot(kind='bar')"
   ]
  },
  {
   "cell_type": "code",
   "execution_count": 10,
   "metadata": {},
   "outputs": [
    {
     "data": {
      "text/plain": [
       "<matplotlib.axes._subplots.AxesSubplot at 0x2c33aa39c08>"
      ]
     },
     "execution_count": 10,
     "metadata": {},
     "output_type": "execute_result"
    },
    {
     "data": {
      "image/png": "[encoded data removed]",
      "text/plain": [
       "<Figure size 432x288 with 1 Axes>"
      ]
     },
     "metadata": {
      "needs_background": "light"
     },
     "output_type": "display_data"
    }
   ],
   "source": [
    "health['benefits'].value_counts().plot(kind='bar')"
   ]
  },
  {
   "cell_type": "code",
   "execution_count": 11,
   "metadata": {},
   "outputs": [
    {
     "data": {
      "text/plain": [
       "<matplotlib.axes._subplots.AxesSubplot at 0x2c33b9e87c8>"
      ]
     },
     "execution_count": 11,
     "metadata": {},
     "output_type": "execute_result"
    },
    {
     "data": {
      "image/png": "[encoded data removed]",
      "text/plain": [
       "<Figure size 432x288 with 1 Axes>"
      ]
     },
     "metadata": {
      "needs_background": "light"
     },
     "output_type": "display_data"
    }
   ],
   "source": [
    "health['family_history'].value_counts().plot(kind='bar')"
   ]
  },
  {
   "cell_type": "code",
   "execution_count": 12,
   "metadata": {},
   "outputs": [
    {
     "data": {
      "text/plain": [
       "<matplotlib.axes._subplots.AxesSubplot at 0x2c33ba55a08>"
      ]
     },
     "execution_count": 12,
     "metadata": {},
     "output_type": "execute_result"
    },
    {
     "data": {
      "image/png": "[encoded data removed]",
      "text/plain": [
       "<Figure size 432x288 with 1 Axes>"
      ]
     },
     "metadata": {
      "needs_background": "light"
     },
     "output_type": "display_data"
    }
   ],
   "source": [
    "health['anonymity'].value_counts().plot(kind='bar')"
   ]
  },
  {
   "cell_type": "code",
   "execution_count": 13,
   "metadata": {},
   "outputs": [
    {
     "name": "stdout",
     "output_type": "stream",
     "text": [
      "['35-45' '25-35' '25-35' ... '25-35' '25-35' '45-55']\n"
     ]
    }
   ],
   "source": [
    "# put age into 5 bins\n",
    "conds = [\n",
    "    (health['Age'] <= 25),\n",
    "    (health['Age'] <= 35) & (health['Age'] > 25),\n",
    "    (health['Age'] <= 45) & (health['Age'] > 35),\n",
    "    (health['Age'] <= 55) & (health['Age'] > 45),\n",
    "    (health['Age'] <= 65) & (health['Age'] > 55),\n",
    "    (health['Age'] > 65)\n",
    "]\n",
    "choices = ['under 25','25-35','35-45','45-55','55-65','over 65']\n",
    "ages = np.select(conds,choices, default = 'Problem')\n",
    "print(ages)"
   ]
  },
  {
   "cell_type": "code",
   "execution_count": 14,
   "metadata": {},
   "outputs": [
    {
     "name": "stderr",
     "output_type": "stream",
     "text": [
      "C:\\Users\\natea\\anaconda3\\lib\\site-packages\\ipykernel_launcher.py:4: SettingWithCopyWarning: \n",
      "A value is trying to be set on a copy of a slice from a DataFrame.\n",
      "Try using .loc[row_indexer,col_indexer] = value instead\n",
      "\n",
      "See the caveats in the documentation: https://pandas.pydata.org/pandas-docs/stable/user_guide/indexing.html#returning-a-view-versus-a-copy\n",
      "  after removing the cwd from sys.path.\n"
     ]
    },
    {
     "data": {
      "text/html": [
       "<div>\n",
       "<style scoped>\n",
       "    .dataframe tbody tr th:only-of-type {\n",
       "        vertical-align: middle;\n",
       "    }\n",
       "\n",
       "    .dataframe tbody tr th {\n",
       "        vertical-align: top;\n",
       "    }\n",
       "\n",
       "    .dataframe thead th {\n",
       "        text-align: right;\n",
       "    }\n",
       "</style>\n",
       "<table border=\"1\" class=\"dataframe\">\n",
       "  <thead>\n",
       "    <tr style=\"text-align: right;\">\n",
       "      <th></th>\n",
       "      <th>treatment</th>\n",
       "      <th>no_employees</th>\n",
       "      <th>benefits</th>\n",
       "      <th>family_history</th>\n",
       "      <th>seek_help</th>\n",
       "      <th>work_interfere</th>\n",
       "      <th>anonymity</th>\n",
       "      <th>age</th>\n",
       "    </tr>\n",
       "  </thead>\n",
       "  <tbody>\n",
       "    <tr>\n",
       "      <th>0</th>\n",
       "      <td>Yes</td>\n",
       "      <td>6-25</td>\n",
       "      <td>Yes</td>\n",
       "      <td>No</td>\n",
       "      <td>Yes</td>\n",
       "      <td>Often</td>\n",
       "      <td>Yes</td>\n",
       "      <td>35-45</td>\n",
       "    </tr>\n",
       "    <tr>\n",
       "      <th>1</th>\n",
       "      <td>No</td>\n",
       "      <td>6-25</td>\n",
       "      <td>No</td>\n",
       "      <td>No</td>\n",
       "      <td>No</td>\n",
       "      <td>Rarely</td>\n",
       "      <td>Don't know</td>\n",
       "      <td>25-35</td>\n",
       "    </tr>\n",
       "    <tr>\n",
       "      <th>2</th>\n",
       "      <td>Yes</td>\n",
       "      <td>26-100</td>\n",
       "      <td>No</td>\n",
       "      <td>Yes</td>\n",
       "      <td>No</td>\n",
       "      <td>Often</td>\n",
       "      <td>No</td>\n",
       "      <td>25-35</td>\n",
       "    </tr>\n",
       "    <tr>\n",
       "      <th>3</th>\n",
       "      <td>No</td>\n",
       "      <td>100-500</td>\n",
       "      <td>Yes</td>\n",
       "      <td>No</td>\n",
       "      <td>Don't know</td>\n",
       "      <td>Never</td>\n",
       "      <td>Don't know</td>\n",
       "      <td>25-35</td>\n",
       "    </tr>\n",
       "    <tr>\n",
       "      <th>4</th>\n",
       "      <td>No</td>\n",
       "      <td>6-25</td>\n",
       "      <td>Yes</td>\n",
       "      <td>Yes</td>\n",
       "      <td>Don't know</td>\n",
       "      <td>Sometimes</td>\n",
       "      <td>Don't know</td>\n",
       "      <td>25-35</td>\n",
       "    </tr>\n",
       "    <tr>\n",
       "      <th>5</th>\n",
       "      <td>Yes</td>\n",
       "      <td>1-5</td>\n",
       "      <td>No</td>\n",
       "      <td>Yes</td>\n",
       "      <td>No</td>\n",
       "      <td>Sometimes</td>\n",
       "      <td>No</td>\n",
       "      <td>35-45</td>\n",
       "    </tr>\n",
       "    <tr>\n",
       "      <th>6</th>\n",
       "      <td>No</td>\n",
       "      <td>1-5</td>\n",
       "      <td>No</td>\n",
       "      <td>No</td>\n",
       "      <td>No</td>\n",
       "      <td>Never</td>\n",
       "      <td>Yes</td>\n",
       "      <td>35-45</td>\n",
       "    </tr>\n",
       "    <tr>\n",
       "      <th>7</th>\n",
       "      <td>Yes</td>\n",
       "      <td>100-500</td>\n",
       "      <td>Yes</td>\n",
       "      <td>Yes</td>\n",
       "      <td>No</td>\n",
       "      <td>Sometimes</td>\n",
       "      <td>No</td>\n",
       "      <td>under 25</td>\n",
       "    </tr>\n",
       "    <tr>\n",
       "      <th>8</th>\n",
       "      <td>No</td>\n",
       "      <td>26-100</td>\n",
       "      <td>Don't know</td>\n",
       "      <td>No</td>\n",
       "      <td>Don't know</td>\n",
       "      <td>Never</td>\n",
       "      <td>Don't know</td>\n",
       "      <td>25-35</td>\n",
       "    </tr>\n",
       "    <tr>\n",
       "      <th>9</th>\n",
       "      <td>Yes</td>\n",
       "      <td>6-25</td>\n",
       "      <td>Don't know</td>\n",
       "      <td>No</td>\n",
       "      <td>No</td>\n",
       "      <td>Sometimes</td>\n",
       "      <td>Don't know</td>\n",
       "      <td>25-35</td>\n",
       "    </tr>\n",
       "    <tr>\n",
       "      <th>10</th>\n",
       "      <td>No</td>\n",
       "      <td>100-500</td>\n",
       "      <td>Don't know</td>\n",
       "      <td>No</td>\n",
       "      <td>No</td>\n",
       "      <td>Never</td>\n",
       "      <td>Don't know</td>\n",
       "      <td>35-45</td>\n",
       "    </tr>\n",
       "    <tr>\n",
       "      <th>11</th>\n",
       "      <td>No</td>\n",
       "      <td>500-1000</td>\n",
       "      <td>Don't know</td>\n",
       "      <td>Yes</td>\n",
       "      <td>Don't know</td>\n",
       "      <td>Never</td>\n",
       "      <td>Don't know</td>\n",
       "      <td>25-35</td>\n",
       "    </tr>\n",
       "    <tr>\n",
       "      <th>12</th>\n",
       "      <td>No</td>\n",
       "      <td>6-25</td>\n",
       "      <td>Don't know</td>\n",
       "      <td>No</td>\n",
       "      <td>Don't know</td>\n",
       "      <td>Never</td>\n",
       "      <td>Don't know</td>\n",
       "      <td>under 25</td>\n",
       "    </tr>\n",
       "    <tr>\n",
       "      <th>13</th>\n",
       "      <td>Yes</td>\n",
       "      <td>26-100</td>\n",
       "      <td>Yes</td>\n",
       "      <td>Yes</td>\n",
       "      <td>No</td>\n",
       "      <td>Rarely</td>\n",
       "      <td>Don't know</td>\n",
       "      <td>25-35</td>\n",
       "    </tr>\n",
       "    <tr>\n",
       "      <th>14</th>\n",
       "      <td>Yes</td>\n",
       "      <td>26-100</td>\n",
       "      <td>Don't know</td>\n",
       "      <td>No</td>\n",
       "      <td>Don't know</td>\n",
       "      <td>Sometimes</td>\n",
       "      <td>Don't know</td>\n",
       "      <td>45-55</td>\n",
       "    </tr>\n",
       "    <tr>\n",
       "      <th>15</th>\n",
       "      <td>Yes</td>\n",
       "      <td>6-25</td>\n",
       "      <td>Yes</td>\n",
       "      <td>No</td>\n",
       "      <td>Don't know</td>\n",
       "      <td>Sometimes</td>\n",
       "      <td>Don't know</td>\n",
       "      <td>35-45</td>\n",
       "    </tr>\n",
       "    <tr>\n",
       "      <th>16</th>\n",
       "      <td>No</td>\n",
       "      <td>1-5</td>\n",
       "      <td>Yes</td>\n",
       "      <td>Yes</td>\n",
       "      <td>Don't know</td>\n",
       "      <td>Sometimes</td>\n",
       "      <td>Yes</td>\n",
       "      <td>25-35</td>\n",
       "    </tr>\n",
       "    <tr>\n",
       "      <th>17</th>\n",
       "      <td>Yes</td>\n",
       "      <td>100-500</td>\n",
       "      <td>Yes</td>\n",
       "      <td>Yes</td>\n",
       "      <td>No</td>\n",
       "      <td>Sometimes</td>\n",
       "      <td>No</td>\n",
       "      <td>45-55</td>\n",
       "    </tr>\n",
       "    <tr>\n",
       "      <th>18</th>\n",
       "      <td>No</td>\n",
       "      <td>1-5</td>\n",
       "      <td>No</td>\n",
       "      <td>No</td>\n",
       "      <td>No</td>\n",
       "      <td>Never</td>\n",
       "      <td>Yes</td>\n",
       "      <td>25-35</td>\n",
       "    </tr>\n",
       "    <tr>\n",
       "      <th>19</th>\n",
       "      <td>Yes</td>\n",
       "      <td>26-100</td>\n",
       "      <td>Yes</td>\n",
       "      <td>No</td>\n",
       "      <td>No</td>\n",
       "      <td>Often</td>\n",
       "      <td>Don't know</td>\n",
       "      <td>25-35</td>\n",
       "    </tr>\n",
       "  </tbody>\n",
       "</table>\n",
       "</div>"
      ],
      "text/plain": [
       "   treatment no_employees    benefits family_history   seek_help  \\\n",
       "0        Yes         6-25         Yes             No         Yes   \n",
       "1         No         6-25          No             No          No   \n",
       "2        Yes       26-100          No            Yes          No   \n",
       "3         No      100-500         Yes             No  Don't know   \n",
       "4         No         6-25         Yes            Yes  Don't know   \n",
       "5        Yes          1-5          No            Yes          No   \n",
       "6         No          1-5          No             No          No   \n",
       "7        Yes      100-500         Yes            Yes          No   \n",
       "8         No       26-100  Don't know             No  Don't know   \n",
       "9        Yes         6-25  Don't know             No          No   \n",
       "10        No      100-500  Don't know             No          No   \n",
       "11        No     500-1000  Don't know            Yes  Don't know   \n",
       "12        No         6-25  Don't know             No  Don't know   \n",
       "13       Yes       26-100         Yes            Yes          No   \n",
       "14       Yes       26-100  Don't know             No  Don't know   \n",
       "15       Yes         6-25         Yes             No  Don't know   \n",
       "16        No          1-5         Yes            Yes  Don't know   \n",
       "17       Yes      100-500         Yes            Yes          No   \n",
       "18        No          1-5          No             No          No   \n",
       "19       Yes       26-100         Yes             No          No   \n",
       "\n",
       "   work_interfere   anonymity       age  \n",
       "0           Often         Yes     35-45  \n",
       "1          Rarely  Don't know     25-35  \n",
       "2           Often          No     25-35  \n",
       "3           Never  Don't know     25-35  \n",
       "4       Sometimes  Don't know     25-35  \n",
       "5       Sometimes          No     35-45  \n",
       "6           Never         Yes     35-45  \n",
       "7       Sometimes          No  under 25  \n",
       "8           Never  Don't know     25-35  \n",
       "9       Sometimes  Don't know     25-35  \n",
       "10          Never  Don't know     35-45  \n",
       "11          Never  Don't know     25-35  \n",
       "12          Never  Don't know  under 25  \n",
       "13         Rarely  Don't know     25-35  \n",
       "14      Sometimes  Don't know     45-55  \n",
       "15      Sometimes  Don't know     35-45  \n",
       "16      Sometimes         Yes     25-35  \n",
       "17      Sometimes          No     45-55  \n",
       "18          Never         Yes     25-35  \n",
       "19          Often  Don't know     25-35  "
      ]
     },
     "execution_count": 14,
     "metadata": {},
     "output_type": "execute_result"
    }
   ],
   "source": [
    "## Convert strings (categorical) to numerical data\n",
    "\n",
    "survey = health[['treatment','no_employees','benefits','family_history','seek_help','work_interfere','anonymity']]\n",
    "survey['age'] = pd.DataFrame(data=ages.flatten())\n",
    "survey = survey.dropna()\n",
    "survey = survey.reset_index(drop=True)\n",
    "survey.head(20)"
   ]
  },
  {
   "cell_type": "code",
   "execution_count": 15,
   "metadata": {},
   "outputs": [
    {
     "name": "stdout",
     "output_type": "stream",
     "text": [
      "[array(['No', 'Yes'], dtype=object), array(['1-5', '6-25', '26-100', '100-500', '500-1000', 'More than 1000'],\n",
      "      dtype=object), array([\"Don't know\", 'No', 'Yes'], dtype=object), array(['No', 'Yes'], dtype=object), array([\"Don't know\", 'No', 'Yes'], dtype=object), array(['Never', 'Rarely', 'Sometimes', 'Often'], dtype=object), array([\"Don't know\", 'No', 'Yes'], dtype=object), array(['under 25', '25-35', '35-45', '45-55', '55-65', 'over 65'],\n",
      "      dtype=object)]\n",
      "[[1. 1. 2. ... 3. 2. 2.]\n",
      " [0. 1. 1. ... 1. 0. 1.]\n",
      " [1. 2. 1. ... 3. 1. 1.]\n",
      " ...\n",
      " [0. 2. 0. ... 0. 0. 1.]\n",
      " [0. 1. 2. ... 0. 0. 1.]\n",
      " [0. 2. 0. ... 2. 0. 3.]]\n"
     ]
    }
   ],
   "source": [
    "# import ordinal encoder\n",
    "from sklearn.preprocessing import OrdinalEncoder\n",
    "\n",
    "cat = [['No', 'Yes'],['1-5', '6-25', '26-100','100-500','500-1000', 'More than 1000'],[\"Don't know\", 'No', 'Yes'],['No', 'Yes'],[\"Don't know\", 'No', 'Yes'],['Never', 'Rarely', 'Sometimes', 'Often'],[\"Don't know\", 'No', 'Yes'],['under 25','25-35','35-45','45-55','55-65','over 65']]\n",
    "ordenc = OrdinalEncoder(categories = cat)\n",
    "surveyE = ordenc.fit_transform(survey)\n",
    "print(ordenc.categories_)\n",
    "print(surveyE)"
   ]
  },
  {
   "cell_type": "code",
   "execution_count": 16,
   "metadata": {},
   "outputs": [],
   "source": [
    "# Import and split data\n",
    "from sklearn.model_selection import train_test_split\n",
    "\n",
    "# treatment is our y variable\n",
    "x_train, x_test, y_train, y_test = train_test_split(surveyE[:,1:],surveyE[:,0], test_size = .5, random_state = 3)\n"
   ]
  },
  {
   "cell_type": "code",
   "execution_count": 17,
   "metadata": {},
   "outputs": [
    {
     "name": "stdout",
     "output_type": "stream",
     "text": [
      "Accuracy of K-NN classifier on training set: 0.81\n",
      "Accuracy of K-NN classifier on test set: 0.75\n"
     ]
    }
   ],
   "source": [
    "# KNN\n",
    "from sklearn.neighbors import KNeighborsClassifier\n",
    "knn = KNeighborsClassifier()\n",
    "knn.fit(X = x_train,y = y_train)\n",
    "print('Accuracy of K-NN classifier on training set: {:.2f}'\n",
    "     .format(knn.score(x_train, y_train)))\n",
    "print('Accuracy of K-NN classifier on test set: {:.2f}'\n",
    "     .format(knn.score(x_test, y_test)))"
   ]
  },
  {
   "cell_type": "code",
   "execution_count": 18,
   "metadata": {},
   "outputs": [
    {
     "name": "stdout",
     "output_type": "stream",
     "text": [
      "Accuracy of Decision Tree classifier on training set: 0.94\n",
      "Accuracy of Decision Tree classifier on test set: 0.68\n"
     ]
    }
   ],
   "source": [
    "from sklearn.tree import DecisionTreeClassifier\n",
    "\n",
    "clf = DecisionTreeClassifier().fit(x_train, y_train)\n",
    "print('Accuracy of Decision Tree classifier on training set: {:.2f}'\n",
    "     .format(clf.score(x_train, y_train)))\n",
    "print('Accuracy of Decision Tree classifier on test set: {:.2f}'\n",
    "     .format(clf.score(x_test, y_test)))"
   ]
  },
  {
   "cell_type": "code",
   "execution_count": 19,
   "metadata": {},
   "outputs": [
    {
     "name": "stdout",
     "output_type": "stream",
     "text": [
      "Accuracy of Logistic regression classifier on training set: 0.82\n",
      "Accuracy of Logistic regression classifier on test set: 0.74\n"
     ]
    }
   ],
   "source": [
    "from sklearn.linear_model import LogisticRegression\n",
    "\n",
    "logreg = LogisticRegression()\n",
    "logreg.fit(x_train, y_train)\n",
    "print('Accuracy of Logistic regression classifier on training set: {:.2f}'\n",
    "     .format(logreg.score(x_train, y_train)))\n",
    "print('Accuracy of Logistic regression classifier on test set: {:.2f}'\n",
    "     .format(logreg.score(x_test, y_test)))"
   ]
  },
  {
   "cell_type": "code",
   "execution_count": 22,
   "metadata": {},
   "outputs": [
    {
     "name": "stdout",
     "output_type": "stream",
     "text": [
      "0.05\n",
      "Accuracy of K-NN classifier on training set: 0.80\n",
      "Accuracy of K-NN classifier on test set: 0.82\n",
      "Accuracy of Decision Tree classifier on training set: 0.91\n",
      "Accuracy of Decision Tree classifier on test set: 0.70\n",
      "Accuracy of Logistic regression classifier on training set: 0.78\n",
      "Accuracy of Logistic regression classifier on test set: 0.79\n",
      "0.1\n",
      "Accuracy of K-NN classifier on training set: 0.80\n",
      "Accuracy of K-NN classifier on test set: 0.83\n",
      "Accuracy of Decision Tree classifier on training set: 0.91\n",
      "Accuracy of Decision Tree classifier on test set: 0.73\n",
      "Accuracy of Logistic regression classifier on training set: 0.79\n",
      "Accuracy of Logistic regression classifier on test set: 0.79\n",
      "0.15\n",
      "Accuracy of K-NN classifier on training set: 0.80\n",
      "Accuracy of K-NN classifier on test set: 0.80\n",
      "Accuracy of Decision Tree classifier on training set: 0.91\n",
      "Accuracy of Decision Tree classifier on test set: 0.71\n",
      "Accuracy of Logistic regression classifier on training set: 0.78\n",
      "Accuracy of Logistic regression classifier on test set: 0.80\n",
      "0.2\n",
      "Accuracy of K-NN classifier on training set: 0.80\n",
      "Accuracy of K-NN classifier on test set: 0.77\n",
      "Accuracy of Decision Tree classifier on training set: 0.91\n",
      "Accuracy of Decision Tree classifier on test set: 0.71\n",
      "Accuracy of Logistic regression classifier on training set: 0.78\n",
      "Accuracy of Logistic regression classifier on test set: 0.81\n",
      "0.25\n",
      "Accuracy of K-NN classifier on training set: 0.80\n",
      "Accuracy of K-NN classifier on test set: 0.75\n",
      "Accuracy of Decision Tree classifier on training set: 0.91\n",
      "Accuracy of Decision Tree classifier on test set: 0.70\n",
      "Accuracy of Logistic regression classifier on training set: 0.78\n",
      "Accuracy of Logistic regression classifier on test set: 0.78\n",
      "0.3\n",
      "Accuracy of K-NN classifier on training set: 0.82\n",
      "Accuracy of K-NN classifier on test set: 0.76\n",
      "Accuracy of Decision Tree classifier on training set: 0.91\n",
      "Accuracy of Decision Tree classifier on test set: 0.73\n",
      "Accuracy of Logistic regression classifier on training set: 0.79\n",
      "Accuracy of Logistic regression classifier on test set: 0.76\n",
      "0.35\n",
      "Accuracy of K-NN classifier on training set: 0.82\n",
      "Accuracy of K-NN classifier on test set: 0.74\n",
      "Accuracy of Decision Tree classifier on training set: 0.92\n",
      "Accuracy of Decision Tree classifier on test set: 0.68\n",
      "Accuracy of Logistic regression classifier on training set: 0.81\n",
      "Accuracy of Logistic regression classifier on test set: 0.73\n",
      "0.39999999999999997\n",
      "Accuracy of K-NN classifier on training set: 0.80\n",
      "Accuracy of K-NN classifier on test set: 0.73\n",
      "Accuracy of Decision Tree classifier on training set: 0.93\n",
      "Accuracy of Decision Tree classifier on test set: 0.68\n",
      "Accuracy of Logistic regression classifier on training set: 0.81\n",
      "Accuracy of Logistic regression classifier on test set: 0.74\n",
      "0.44999999999999996\n",
      "Accuracy of K-NN classifier on training set: 0.82\n",
      "Accuracy of K-NN classifier on test set: 0.73\n",
      "Accuracy of Decision Tree classifier on training set: 0.93\n",
      "Accuracy of Decision Tree classifier on test set: 0.69\n",
      "Accuracy of Logistic regression classifier on training set: 0.81\n",
      "Accuracy of Logistic regression classifier on test set: 0.73\n",
      "0.49999999999999994\n",
      "Accuracy of K-NN classifier on training set: 0.82\n",
      "Accuracy of K-NN classifier on test set: 0.75\n",
      "Accuracy of Decision Tree classifier on training set: 0.94\n",
      "Accuracy of Decision Tree classifier on test set: 0.69\n",
      "Accuracy of Logistic regression classifier on training set: 0.82\n",
      "Accuracy of Logistic regression classifier on test set: 0.74\n",
      "0.5499999999999999\n",
      "Accuracy of K-NN classifier on training set: 0.82\n",
      "Accuracy of K-NN classifier on test set: 0.73\n",
      "Accuracy of Decision Tree classifier on training set: 0.94\n",
      "Accuracy of Decision Tree classifier on test set: 0.69\n",
      "Accuracy of Logistic regression classifier on training set: 0.81\n",
      "Accuracy of Logistic regression classifier on test set: 0.75\n",
      "0.6\n",
      "Accuracy of K-NN classifier on training set: 0.82\n",
      "Accuracy of K-NN classifier on test set: 0.75\n",
      "Accuracy of Decision Tree classifier on training set: 0.93\n",
      "Accuracy of Decision Tree classifier on test set: 0.74\n",
      "Accuracy of Logistic regression classifier on training set: 0.82\n",
      "Accuracy of Logistic regression classifier on test set: 0.75\n",
      "0.65\n",
      "Accuracy of K-NN classifier on training set: 0.79\n",
      "Accuracy of K-NN classifier on test set: 0.72\n",
      "Accuracy of Decision Tree classifier on training set: 0.93\n",
      "Accuracy of Decision Tree classifier on test set: 0.73\n",
      "Accuracy of Logistic regression classifier on training set: 0.81\n",
      "Accuracy of Logistic regression classifier on test set: 0.76\n",
      "0.7\n",
      "Accuracy of K-NN classifier on training set: 0.79\n",
      "Accuracy of K-NN classifier on test set: 0.73\n",
      "Accuracy of Decision Tree classifier on training set: 0.94\n",
      "Accuracy of Decision Tree classifier on test set: 0.73\n",
      "Accuracy of Logistic regression classifier on training set: 0.81\n",
      "Accuracy of Logistic regression classifier on test set: 0.76\n",
      "0.75\n",
      "Accuracy of K-NN classifier on training set: 0.79\n",
      "Accuracy of K-NN classifier on test set: 0.74\n",
      "Accuracy of Decision Tree classifier on training set: 0.95\n",
      "Accuracy of Decision Tree classifier on test set: 0.71\n",
      "Accuracy of Logistic regression classifier on training set: 0.83\n",
      "Accuracy of Logistic regression classifier on test set: 0.75\n",
      "0.7999999999999999\n",
      "Accuracy of K-NN classifier on training set: 0.77\n",
      "Accuracy of K-NN classifier on test set: 0.72\n",
      "Accuracy of Decision Tree classifier on training set: 0.95\n",
      "Accuracy of Decision Tree classifier on test set: 0.74\n",
      "Accuracy of Logistic regression classifier on training set: 0.84\n",
      "Accuracy of Logistic regression classifier on test set: 0.76\n",
      "0.85\n",
      "Accuracy of K-NN classifier on training set: 0.82\n",
      "Accuracy of K-NN classifier on test set: 0.74\n",
      "Accuracy of Decision Tree classifier on training set: 0.96\n",
      "Accuracy of Decision Tree classifier on test set: 0.67\n",
      "Accuracy of Logistic regression classifier on training set: 0.84\n",
      "Accuracy of Logistic regression classifier on test set: 0.77\n",
      "0.9\n",
      "Accuracy of K-NN classifier on training set: 0.77\n",
      "Accuracy of K-NN classifier on test set: 0.75\n",
      "Accuracy of Decision Tree classifier on training set: 0.98\n",
      "Accuracy of Decision Tree classifier on test set: 0.69\n",
      "Accuracy of Logistic regression classifier on training set: 0.83\n",
      "Accuracy of Logistic regression classifier on test set: 0.78\n",
      "0.95\n",
      "Accuracy of K-NN classifier on training set: 0.72\n",
      "Accuracy of K-NN classifier on test set: 0.63\n",
      "Accuracy of Decision Tree classifier on training set: 1.00\n",
      "Accuracy of Decision Tree classifier on test set: 0.75\n",
      "Accuracy of Logistic regression classifier on training set: 0.84\n",
      "Accuracy of Logistic regression classifier on test set: 0.74\n"
     ]
    }
   ],
   "source": [
    "from matplotlib import pyplot as plt\n",
    "from mpl_toolkits import mplot3d\n",
    "\n",
    "cm = plt.cm.get_cmap('jet')\n",
    "\n",
    "rval = np.empty([10*19,1])\n",
    "kval = np.empty([10*19,1])\n",
    "nval = np.empty([10*19,1])\n",
    "i = 0\n",
    "\n",
    "for r in np.linspace(0.05,0.95,19):\n",
    "    #r = .2\n",
    "    x_train, x_test, y_train, y_test = train_test_split(surveyE[:,1:],surveyE[:,0], test_size = r, random_state = 3)\n",
    "    print(r)      \n",
    "        \n",
    "    knn = KNeighborsClassifier(n_neighbors=9)\n",
    "    knn.fit(X = x_train,y = y_train)\n",
    "    print('Accuracy of K-NN classifier on training set: {:.2f}'.format(knn.score(x_train, y_train)))\n",
    "    print('Accuracy of K-NN classifier on test set: {:.2f}'.format(knn.score(x_test, y_test)))\n",
    "\n",
    "    clf = DecisionTreeClassifier().fit(x_train, y_train)\n",
    "    print('Accuracy of Decision Tree classifier on training set: {:.2f}'.format(clf.score(x_train, y_train)))\n",
    "    print('Accuracy of Decision Tree classifier on test set: {:.2f}'.format(clf.score(x_test, y_test)))\n",
    "\n",
    "    logreg = LogisticRegression()\n",
    "    logreg.fit(x_train, y_train)\n",
    "    print('Accuracy of Logistic regression classifier on training set: {:.2f}'.format(logreg.score(x_train, y_train)))\n",
    "    print('Accuracy of Logistic regression classifier on test set: {:.2f}'.format(logreg.score(x_test, y_test)))\n",
    "\n",
    "    #kval[i] = knn.score(x_test,y_test)\n",
    "    #nval[i] = k\n",
    "    #rval[i] = r\n",
    "    #plt.scatter(r,k,c = knn.score(x_test,y_test), vmin = 0, vmax = 1, cmap = cm)\n",
    "    #plt.scatter(r, clf.score(x_test,y_test),c = 'blue', label = 'clf', zorder = 3)\n",
    "    #plt.scatter(r, logreg.score(x_test,y_test), c= 'red', label = 'logreg', zorder = 3)\n",
    "\n",
    "    i += 1\n",
    "#plt.figure(figsize=(6,6))\n",
    "#sc = plt.scatter(rval,nval, c= kval, vmin = min(kval), vmax = 1, cmap = cm)\n",
    "#plt.colorbar(sc)\n",
    "#ax = plt.gca()\n",
    "#ax.grid(which = 'major',axis = 'both',zorder = 0, lw = .25)\n",
    "#plt.xlabel('Ratio of Train to Test Size')\n",
    "#plt.ylabel('Number of Neighbors')\n",
    "#plt.legend(['clf','logreg'],bbox_to_anchor=(1.04,0.5), loc=\"center left\", borderaxespad=0)\n",
    "#plt.show()\n",
    "\n",
    "        "
   ]
  },
  {
   "cell_type": "code",
   "execution_count": 23,
   "metadata": {},
   "outputs": [
    {
     "name": "stdout",
     "output_type": "stream",
     "text": [
      "[[ 22 232]\n",
      " [  6 397]]\n",
      "[[143 111]\n",
      " [ 58 345]]\n",
      "[[160  94]\n",
      " [ 63 340]]\n"
     ]
    }
   ],
   "source": [
    "from sklearn.metrics import mean_squared_error\n",
    "from sklearn.metrics import confusion_matrix\n",
    "y = surveyE[:,0]\n",
    "# predictions\n",
    "\n",
    "k_pred = knn.predict(surveyE[:,1:])\n",
    "l_pred = logreg.predict(surveyE[:,1:])\n",
    "c_pred = clf.predict(surveyE[:,1:])\n",
    "\n",
    "kmse = mean_squared_error(k_pred,y)\n",
    "lmse = mean_squared_error(l_pred,y)\n",
    "cmse = mean_squared_error(c_pred,y)\n",
    "\n",
    "kcon = confusion_matrix(y,k_pred)\n",
    "lcon = confusion_matrix(y,l_pred)\n",
    "ccon = confusion_matrix(y,c_pred)\n",
    "\n",
    "print(kcon)\n",
    "print(lcon)\n",
    "print(ccon)"
   ]
  },
  {
   "cell_type": "code",
   "execution_count": 24,
   "metadata": {},
   "outputs": [
    {
     "data": {
      "text/plain": [
       "Text(0.5, 1.0, 'knn')"
      ]
     },
     "execution_count": 24,
     "metadata": {},
     "output_type": "execute_result"
    },
    {
     "data": {
      "image/png": "[encoded data removed]",
      "text/plain": [
       "<Figure size 432x288 with 2 Axes>"
      ]
     },
     "metadata": {
      "needs_background": "light"
     },
     "output_type": "display_data"
    }
   ],
   "source": [
    "from sklearn.metrics import plot_confusion_matrix as pcm\n",
    "\n",
    "disp = pcm( knn , surveyE[:,1:], y_true = y, cmap = plt.cm.Blues )\n",
    "disp.ax_.set_title('knn')"
   ]
  },
  {
   "cell_type": "code",
   "execution_count": 25,
   "metadata": {},
   "outputs": [
    {
     "data": {
      "text/plain": [
       "Text(0.5, 1.0, 'clf')"
      ]
     },
     "execution_count": 25,
     "metadata": {},
     "output_type": "execute_result"
    },
    {
     "data": {
      "image/png": "[encoded data removed]",
      "text/plain": [
       "<Figure size 432x288 with 2 Axes>"
      ]
     },
     "metadata": {
      "needs_background": "light"
     },
     "output_type": "display_data"
    }
   ],
   "source": [
    "disp = pcm( clf , surveyE[:,1:], y_true = y, cmap = plt.cm.Blues )\n",
    "disp.ax_.set_title('clf')"
   ]
  },
  {
   "cell_type": "code",
   "execution_count": 26,
   "metadata": {},
   "outputs": [
    {
     "data": {
      "text/plain": [
       "Text(0.5, 1.0, 'logreg')"
      ]
     },
     "execution_count": 26,
     "metadata": {},
     "output_type": "execute_result"
    },
    {
     "data": {
      "image/png": "[encoded data removed]",
      "text/plain": [
       "<Figure size 432x288 with 2 Axes>"
      ]
     },
     "metadata": {
      "needs_background": "light"
     },
     "output_type": "display_data"
    }
   ],
   "source": [
    "disp = pcm( logreg , surveyE[:,1:], y_true = y, cmap = plt.cm.Blues )\n",
    "disp.ax_.set_title('logreg')"
   ]
  },
  {
   "cell_type": "code",
   "execution_count": null,
   "metadata": {},
   "outputs": [],
   "source": []
  }
 ],
 "metadata": {
  "kernelspec": {
   "display_name": "Python 3",
   "language": "python",
   "name": "python3"
  },
  "language_info": {
   "codemirror_mode": {
    "name": "ipython",
    "version": 3
   },
   "file_extension": ".py",
   "mimetype": "text/x-python",
   "name": "python",
   "nbconvert_exporter": "python",
   "pygments_lexer": "ipython3",
   "version": "3.7.6"
  }
 },
 "nbformat": 4,
 "nbformat_minor": 2
}
